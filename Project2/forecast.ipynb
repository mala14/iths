{
 "cells": [
  {
   "cell_type": "code",
   "execution_count": 11,
   "metadata": {},
   "outputs": [],
   "source": [
    "import pandas as pd\n",
    "import numpy as np\n",
    "import matplotlib.pyplot as plt\n",
    "from matplotlib import dates as mdates\n",
    "\n",
    "# Read csv files to gather weather info\n",
    "humi = pd.read_csv('./data/smhi-opendata_humidity_blge.csv') # Humidity\n",
    "prec = pd.read_csv('./data/smhi-opendata_precipitation_blge.csv') # Precipitation\n",
    "temp = pd.read_csv('./data/smhi-opendata_temp_blge.csv') # Temperature\n",
    "\n",
    "# Select humidity data\n",
    "df_hum = humi[['Datum', 'Tid (UTC)', 'Relativ Luftfuktighet']].copy()\n",
    "# Select percipitation data\n",
    "df_pre = prec[['Datum', 'Tid (UTC)', 'Nederbördsmängd']].copy()\n",
    "# Select temperature data\n",
    "df_temp = temp[['Datum', 'Tid (UTC)', 'Lufttemperatur']].copy()\n",
    "\n"
   ]
  },
  {
   "cell_type": "code",
   "execution_count": 12,
   "metadata": {},
   "outputs": [
    {
     "data": {
      "text/html": [
       "<div>\n",
       "<style scoped>\n",
       "    .dataframe tbody tr th:only-of-type {\n",
       "        vertical-align: middle;\n",
       "    }\n",
       "\n",
       "    .dataframe tbody tr th {\n",
       "        vertical-align: top;\n",
       "    }\n",
       "\n",
       "    .dataframe thead th {\n",
       "        text-align: right;\n",
       "    }\n",
       "</style>\n",
       "<table border=\"1\" class=\"dataframe\">\n",
       "  <thead>\n",
       "    <tr style=\"text-align: right;\">\n",
       "      <th></th>\n",
       "      <th>Datum</th>\n",
       "      <th>Tid (UTC)</th>\n",
       "      <th>Relativ Luftfuktighet</th>\n",
       "      <th>Datetime</th>\n",
       "    </tr>\n",
       "  </thead>\n",
       "  <tbody>\n",
       "    <tr>\n",
       "      <th>0</th>\n",
       "      <td>2023-07-22</td>\n",
       "      <td>01:00:00</td>\n",
       "      <td>90</td>\n",
       "      <td>2023-07-22 01:00:00</td>\n",
       "    </tr>\n",
       "    <tr>\n",
       "      <th>1</th>\n",
       "      <td>2023-07-22</td>\n",
       "      <td>02:00:00</td>\n",
       "      <td>93</td>\n",
       "      <td>2023-07-22 02:00:00</td>\n",
       "    </tr>\n",
       "    <tr>\n",
       "      <th>2</th>\n",
       "      <td>2023-07-22</td>\n",
       "      <td>03:00:00</td>\n",
       "      <td>93</td>\n",
       "      <td>2023-07-22 03:00:00</td>\n",
       "    </tr>\n",
       "    <tr>\n",
       "      <th>3</th>\n",
       "      <td>2023-07-22</td>\n",
       "      <td>04:00:00</td>\n",
       "      <td>92</td>\n",
       "      <td>2023-07-22 04:00:00</td>\n",
       "    </tr>\n",
       "    <tr>\n",
       "      <th>4</th>\n",
       "      <td>2023-07-22</td>\n",
       "      <td>05:00:00</td>\n",
       "      <td>89</td>\n",
       "      <td>2023-07-22 05:00:00</td>\n",
       "    </tr>\n",
       "  </tbody>\n",
       "</table>\n",
       "</div>"
      ],
      "text/plain": [
       "        Datum Tid (UTC)  Relativ Luftfuktighet            Datetime\n",
       "0  2023-07-22  01:00:00                     90 2023-07-22 01:00:00\n",
       "1  2023-07-22  02:00:00                     93 2023-07-22 02:00:00\n",
       "2  2023-07-22  03:00:00                     93 2023-07-22 03:00:00\n",
       "3  2023-07-22  04:00:00                     92 2023-07-22 04:00:00\n",
       "4  2023-07-22  05:00:00                     89 2023-07-22 05:00:00"
      ]
     },
     "execution_count": 12,
     "metadata": {},
     "output_type": "execute_result"
    }
   ],
   "source": [
    "df_hum.head()"
   ]
  },
  {
   "cell_type": "markdown",
   "metadata": {},
   "source": [
    "Plotting"
   ]
  },
  {
   "cell_type": "code",
   "execution_count": 13,
   "metadata": {},
   "outputs": [],
   "source": [
    "# Concat Datum and Tid UTC to one column for the plotter\n",
    "df_hum.loc[:, 'Datetime'] = pd.to_datetime(df_hum['Datum'] + ' ' + df_hum['Tid (UTC)'])\n",
    "df_pre.loc[:, 'Datetime'] = pd.to_datetime(df_pre['Datum'] + ' ' + df_pre['Tid (UTC)'])\n",
    "df_temp.loc[:, 'Datetime'] = pd.to_datetime(df_temp['Datum'] + ' ' + df_temp['Tid (UTC)'])"
   ]
  },
  {
   "cell_type": "code",
   "execution_count": 14,
   "metadata": {},
   "outputs": [
    {
     "data": {
      "text/html": [
       "<div>\n",
       "<style scoped>\n",
       "    .dataframe tbody tr th:only-of-type {\n",
       "        vertical-align: middle;\n",
       "    }\n",
       "\n",
       "    .dataframe tbody tr th {\n",
       "        vertical-align: top;\n",
       "    }\n",
       "\n",
       "    .dataframe thead th {\n",
       "        text-align: right;\n",
       "    }\n",
       "</style>\n",
       "<table border=\"1\" class=\"dataframe\">\n",
       "  <thead>\n",
       "    <tr style=\"text-align: right;\">\n",
       "      <th></th>\n",
       "      <th>Datum</th>\n",
       "      <th>Tid (UTC)</th>\n",
       "      <th>Relativ Luftfuktighet</th>\n",
       "      <th>Datetime</th>\n",
       "    </tr>\n",
       "  </thead>\n",
       "  <tbody>\n",
       "    <tr>\n",
       "      <th>0</th>\n",
       "      <td>2023-07-22</td>\n",
       "      <td>01:00:00</td>\n",
       "      <td>90</td>\n",
       "      <td>2023-07-22 01:00:00</td>\n",
       "    </tr>\n",
       "    <tr>\n",
       "      <th>1</th>\n",
       "      <td>2023-07-22</td>\n",
       "      <td>02:00:00</td>\n",
       "      <td>93</td>\n",
       "      <td>2023-07-22 02:00:00</td>\n",
       "    </tr>\n",
       "    <tr>\n",
       "      <th>2</th>\n",
       "      <td>2023-07-22</td>\n",
       "      <td>03:00:00</td>\n",
       "      <td>93</td>\n",
       "      <td>2023-07-22 03:00:00</td>\n",
       "    </tr>\n",
       "    <tr>\n",
       "      <th>3</th>\n",
       "      <td>2023-07-22</td>\n",
       "      <td>04:00:00</td>\n",
       "      <td>92</td>\n",
       "      <td>2023-07-22 04:00:00</td>\n",
       "    </tr>\n",
       "    <tr>\n",
       "      <th>4</th>\n",
       "      <td>2023-07-22</td>\n",
       "      <td>05:00:00</td>\n",
       "      <td>89</td>\n",
       "      <td>2023-07-22 05:00:00</td>\n",
       "    </tr>\n",
       "  </tbody>\n",
       "</table>\n",
       "</div>"
      ],
      "text/plain": [
       "        Datum Tid (UTC)  Relativ Luftfuktighet            Datetime\n",
       "0  2023-07-22  01:00:00                     90 2023-07-22 01:00:00\n",
       "1  2023-07-22  02:00:00                     93 2023-07-22 02:00:00\n",
       "2  2023-07-22  03:00:00                     93 2023-07-22 03:00:00\n",
       "3  2023-07-22  04:00:00                     92 2023-07-22 04:00:00\n",
       "4  2023-07-22  05:00:00                     89 2023-07-22 05:00:00"
      ]
     },
     "execution_count": 14,
     "metadata": {},
     "output_type": "execute_result"
    }
   ],
   "source": [
    "df_hum.head()"
   ]
  },
  {
   "cell_type": "code",
   "execution_count": null,
   "metadata": {},
   "outputs": [],
   "source": [
    "\n",
    "# Plotting\n",
    "plt.figure(figsize=(18, 14))\n",
    "\n",
    "# Plot Humidity\n",
    "plt.subplot(3, 1, 1)\n",
    "plt.plot(df_hum['Datetime'], df_hum['Relativ Luftfuktighet'], label='Humidity')\n",
    "plt.title('Humidity over Time')\n",
    "plt.xlabel('Time')\n",
    "plt.ylabel('Relative Humidity (%)')\n",
    "plt.grid(True)\n",
    "plt.legend()\n",
    "plt.gca().xaxis.set_major_locator(mdates.DayLocator(interval=2)) # Set the x-axis ticks automatically\n",
    "plt.gca().xaxis.set_major_formatter(mdates.AutoDateFormatter(mdates.DateFormatter('%Y-%m-%d')))  # Format the tick labels\n",
    "plt.xticks(rotation=90)  # Rotate the tick labels\n",
    "\n",
    "# Plot Precipitation\n",
    "plt.subplot(3, 1, 2)\n",
    "plt.plot(df_pre['Datetime'], df_pre['Nederbördsmängd'], label='Precipitation')\n",
    "plt.title('Precipitation over Time')\n",
    "plt.xlabel('Time')\n",
    "plt.ylabel('Precipitation (mm)')\n",
    "plt.grid(True)\n",
    "plt.legend()\n",
    "plt.gca().xaxis.set_major_locator(mdates.DayLocator(interval=2)) # Set x to day interval\n",
    "plt.gca().xaxis.set_major_formatter(mdates.AutoDateFormatter(mdates.DateFormatter('%Y-%m-%d')))  # Format the tick labels\n",
    "plt.xticks(rotation=90)  # Rotate the tick labels\n",
    "\n",
    "# Plot Temperature\n",
    "plt.subplot(3, 1, 3)\n",
    "plt.plot(df_temp['Datetime'], df_temp['Lufttemperatur'], label='Temperature')\n",
    "plt.title('Temperature over Time')\n",
    "plt.xlabel('Time')\n",
    "plt.ylabel('Temperature (°C)')\n",
    "plt.grid(True)\n",
    "plt.legend()\n",
    "plt.gca().xaxis.set_major_locator(mdates.DayLocator(interval=2)) # Set x to day interval\n",
    "plt.gca().xaxis.set_major_formatter(mdates.AutoDateFormatter(mdates.DateFormatter('%Y-%m-%d')))  # Format the tick labels\n",
    "plt.xticks(rotation=90)  # Rotate the tick labels\n",
    "\n",
    "# Adjust layout for better visualization\n",
    "plt.tight_layout()\n",
    "plt.show()\n"
   ]
  },
  {
   "cell_type": "code",
   "execution_count": null,
   "metadata": {},
   "outputs": [],
   "source": []
  },
  {
   "cell_type": "code",
   "execution_count": 7,
   "metadata": {},
   "outputs": [
    {
     "data": {
      "text/plain": [
       "2906"
      ]
     },
     "execution_count": 7,
     "metadata": {},
     "output_type": "execute_result"
    }
   ],
   "source": [
    "len(prec)"
   ]
  },
  {
   "cell_type": "code",
   "execution_count": 8,
   "metadata": {},
   "outputs": [
    {
     "data": {
      "text/plain": [
       "3117"
      ]
     },
     "execution_count": 8,
     "metadata": {},
     "output_type": "execute_result"
    }
   ],
   "source": [
    "len(humi)"
   ]
  },
  {
   "cell_type": "code",
   "execution_count": 9,
   "metadata": {},
   "outputs": [
    {
     "data": {
      "text/plain": [
       "3118"
      ]
     },
     "execution_count": 9,
     "metadata": {},
     "output_type": "execute_result"
    }
   ],
   "source": [
    "len(temp)"
   ]
  }
 ],
 "metadata": {
  "kernelspec": {
   "display_name": "venv",
   "language": "python",
   "name": "python3"
  },
  "language_info": {
   "codemirror_mode": {
    "name": "ipython",
    "version": 3
   },
   "file_extension": ".py",
   "mimetype": "text/x-python",
   "name": "python",
   "nbconvert_exporter": "python",
   "pygments_lexer": "ipython3",
   "version": "3.10.12"
  }
 },
 "nbformat": 4,
 "nbformat_minor": 2
}
